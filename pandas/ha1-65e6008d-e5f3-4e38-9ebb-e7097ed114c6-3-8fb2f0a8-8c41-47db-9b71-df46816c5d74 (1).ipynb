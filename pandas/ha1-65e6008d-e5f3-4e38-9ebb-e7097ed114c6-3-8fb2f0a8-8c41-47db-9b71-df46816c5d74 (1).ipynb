{
 "cells": [
  {
   "cell_type": "markdown",
   "id": "710e75fc",
   "metadata": {},
   "source": [
    "Предполагается, что в рамках данного задания ученики сами будут изучать документацию, как минимум используя функционал `tab` и `shift+tab` от Jupyter"
   ]
  },
  {
   "cell_type": "markdown",
   "id": "3bf86b79",
   "metadata": {},
   "source": [
    "1. Импортируйте библиотеку pandas \n",
    "2. Считайте файл `wage.csv` в DataFrame с названием `wage`. Используйте для этого функцию pd.read_csv()\n",
    "\n",
    "`person_id` - идентификатор человека\n",
    "\n",
    "`gender` - пол, 0 - женский, 1 - мужской\n",
    "\n",
    "`wage` - заработная плата в рублях"
   ]
  },
  {
   "cell_type": "markdown",
   "id": "59572db1",
   "metadata": {},
   "source": [
    "3. Поменяйте колонку `gender` так, чтобы были записи `F` (female) и `M` (male) вместо 0 и 1"
   ]
  },
  {
   "cell_type": "markdown",
   "id": "f11b6bab",
   "metadata": {},
   "source": [
    "4. Давайте посчитаем среднюю зарплату у мужчин и женщин. Для этого используйте метод `groupby` со следующим синтаксисом:\n",
    "\n",
    "`dataframe.groupby(Название_колонки_для_группировки)[Перечисление_колонок_для_агрегации].функция_агрегации()`"
   ]
  },
  {
   "cell_type": "code",
   "execution_count": 56,
   "id": "60826655",
   "metadata": {},
   "outputs": [],
   "source": [
    "import pandas as pd"
   ]
  },
  {
   "cell_type": "code",
   "execution_count": 57,
   "id": "db35467c",
   "metadata": {},
   "outputs": [],
   "source": [
    "wage_orig = pd.read_csv('wage-1-ee13a6b1-605e-44fe-83a6-85d3d7a0b3ae-2873619c-9efe-44e2-932a-f6fed7be056b.csv')\n",
    "wage = wage_orig.copy()"
   ]
  },
  {
   "cell_type": "code",
   "execution_count": 58,
   "id": "672f54fd-017c-4b40-8530-e5bdcd53d948",
   "metadata": {},
   "outputs": [],
   "source": [
    "wage['gender'] = wage['gender'].replace({0: 'F', 1: 'M'})"
   ]
  },
  {
   "cell_type": "code",
   "execution_count": 59,
   "id": "e9e2dd17-bc20-4c8e-a427-d1255048811c",
   "metadata": {},
   "outputs": [
    {
     "data": {
      "text/plain": [
       "gender\n",
       "F    40855.747261\n",
       "M    46815.944005\n",
       "Name: wage, dtype: float64"
      ]
     },
     "execution_count": 59,
     "metadata": {},
     "output_type": "execute_result"
    }
   ],
   "source": [
    "average_salary_by_gender = wage.groupby('gender')['wage'].mean()\n",
    "average_salary_by_gender"
   ]
  },
  {
   "cell_type": "markdown",
   "id": "00f64e36",
   "metadata": {},
   "source": [
    "5. Теперь взглянем внимательнее на данные и обнаружим, что некоторые люди попали в выборку несколько раз. \n",
    "    1. Найдите таких людей. Подсказка: `value_counts()`\n",
    "    0. Убедитесь, что записи по ним с одинаковым `wage`. Возможно, тут вам пригодится функция агрегации `nunique()`, отображающая количество разных значений\n",
    "    0. Избавьтесь от повторяющихся значений. Подсказка: `drop_duplicates()`"
   ]
  },
  {
   "cell_type": "code",
   "execution_count": 61,
   "id": "62fcf975",
   "metadata": {},
   "outputs": [
    {
     "data": {
      "text/html": [
       "<div>\n",
       "<style scoped>\n",
       "    .dataframe tbody tr th:only-of-type {\n",
       "        vertical-align: middle;\n",
       "    }\n",
       "\n",
       "    .dataframe tbody tr th {\n",
       "        vertical-align: top;\n",
       "    }\n",
       "\n",
       "    .dataframe thead th {\n",
       "        text-align: right;\n",
       "    }\n",
       "</style>\n",
       "<table border=\"1\" class=\"dataframe\">\n",
       "  <thead>\n",
       "    <tr style=\"text-align: right;\">\n",
       "      <th></th>\n",
       "      <th>person_id</th>\n",
       "      <th>gender</th>\n",
       "      <th>wage</th>\n",
       "    </tr>\n",
       "  </thead>\n",
       "  <tbody>\n",
       "    <tr>\n",
       "      <th>12</th>\n",
       "      <td>12</td>\n",
       "      <td>M</td>\n",
       "      <td>23547.663281</td>\n",
       "    </tr>\n",
       "    <tr>\n",
       "      <th>13</th>\n",
       "      <td>12</td>\n",
       "      <td>M</td>\n",
       "      <td>23547.663281</td>\n",
       "    </tr>\n",
       "    <tr>\n",
       "      <th>14</th>\n",
       "      <td>13</td>\n",
       "      <td>M</td>\n",
       "      <td>273483.609236</td>\n",
       "    </tr>\n",
       "    <tr>\n",
       "      <th>15</th>\n",
       "      <td>13</td>\n",
       "      <td>M</td>\n",
       "      <td>273483.609236</td>\n",
       "    </tr>\n",
       "    <tr>\n",
       "      <th>16</th>\n",
       "      <td>14</td>\n",
       "      <td>M</td>\n",
       "      <td>13434.655493</td>\n",
       "    </tr>\n",
       "    <tr>\n",
       "      <th>17</th>\n",
       "      <td>14</td>\n",
       "      <td>M</td>\n",
       "      <td>13434.655493</td>\n",
       "    </tr>\n",
       "    <tr>\n",
       "      <th>18</th>\n",
       "      <td>15</td>\n",
       "      <td>F</td>\n",
       "      <td>68341.332163</td>\n",
       "    </tr>\n",
       "    <tr>\n",
       "      <th>19</th>\n",
       "      <td>15</td>\n",
       "      <td>F</td>\n",
       "      <td>68341.332163</td>\n",
       "    </tr>\n",
       "    <tr>\n",
       "      <th>20</th>\n",
       "      <td>16</td>\n",
       "      <td>F</td>\n",
       "      <td>35448.040878</td>\n",
       "    </tr>\n",
       "    <tr>\n",
       "      <th>21</th>\n",
       "      <td>16</td>\n",
       "      <td>F</td>\n",
       "      <td>35448.040878</td>\n",
       "    </tr>\n",
       "    <tr>\n",
       "      <th>22</th>\n",
       "      <td>17</td>\n",
       "      <td>M</td>\n",
       "      <td>20178.985060</td>\n",
       "    </tr>\n",
       "    <tr>\n",
       "      <th>23</th>\n",
       "      <td>17</td>\n",
       "      <td>M</td>\n",
       "      <td>20178.985060</td>\n",
       "    </tr>\n",
       "  </tbody>\n",
       "</table>\n",
       "</div>"
      ],
      "text/plain": [
       "    person_id gender           wage\n",
       "12         12      M   23547.663281\n",
       "13         12      M   23547.663281\n",
       "14         13      M  273483.609236\n",
       "15         13      M  273483.609236\n",
       "16         14      M   13434.655493\n",
       "17         14      M   13434.655493\n",
       "18         15      F   68341.332163\n",
       "19         15      F   68341.332163\n",
       "20         16      F   35448.040878\n",
       "21         16      F   35448.040878\n",
       "22         17      M   20178.985060\n",
       "23         17      M   20178.985060"
      ]
     },
     "execution_count": 61,
     "metadata": {},
     "output_type": "execute_result"
    }
   ],
   "source": [
    "id_counts = wage['person_id'].value_counts()\n",
    "duplicated_id = id_counts[id_counts > 1].index\n",
    "duplicated_records = wage[wage['person_id'].isin(duplicated_id)]\n",
    "duplicated_records"
   ]
  },
  {
   "cell_type": "code",
   "execution_count": 66,
   "id": "0f39afdf-f584-44c3-9509-530a31ff2ab8",
   "metadata": {},
   "outputs": [
    {
     "data": {
      "text/plain": [
       "person_id  gender  wage         \n",
       "12         M       23547.663281     1\n",
       "13         M       273483.609236    1\n",
       "14         M       13434.655493     1\n",
       "15         F       68341.332163     1\n",
       "16         F       35448.040878     1\n",
       "17         M       20178.985060     1\n",
       "Name: wage, dtype: int64"
      ]
     },
     "execution_count": 66,
     "metadata": {},
     "output_type": "execute_result"
    }
   ],
   "source": [
    "unique_wage_by_id = duplicated_records.groupby(['person_id', 'gender', 'wage'])['wage'].nunique()\n",
    "unique_wage_by_id"
   ]
  },
  {
   "cell_type": "code",
   "execution_count": 9,
   "id": "0b069c52-3188-479f-954a-94f01d2d93b4",
   "metadata": {},
   "outputs": [
    {
     "data": {
      "text/html": [
       "<div>\n",
       "<style scoped>\n",
       "    .dataframe tbody tr th:only-of-type {\n",
       "        vertical-align: middle;\n",
       "    }\n",
       "\n",
       "    .dataframe tbody tr th {\n",
       "        vertical-align: top;\n",
       "    }\n",
       "\n",
       "    .dataframe thead th {\n",
       "        text-align: right;\n",
       "    }\n",
       "</style>\n",
       "<table border=\"1\" class=\"dataframe\">\n",
       "  <thead>\n",
       "    <tr style=\"text-align: right;\">\n",
       "      <th></th>\n",
       "      <th>person_id</th>\n",
       "      <th>gender</th>\n",
       "      <th>wage</th>\n",
       "    </tr>\n",
       "  </thead>\n",
       "  <tbody>\n",
       "    <tr>\n",
       "      <th>12</th>\n",
       "      <td>12</td>\n",
       "      <td>M</td>\n",
       "      <td>23547.663281</td>\n",
       "    </tr>\n",
       "    <tr>\n",
       "      <th>14</th>\n",
       "      <td>13</td>\n",
       "      <td>M</td>\n",
       "      <td>273483.609236</td>\n",
       "    </tr>\n",
       "    <tr>\n",
       "      <th>16</th>\n",
       "      <td>14</td>\n",
       "      <td>M</td>\n",
       "      <td>13434.655493</td>\n",
       "    </tr>\n",
       "    <tr>\n",
       "      <th>18</th>\n",
       "      <td>15</td>\n",
       "      <td>F</td>\n",
       "      <td>68341.332163</td>\n",
       "    </tr>\n",
       "    <tr>\n",
       "      <th>20</th>\n",
       "      <td>16</td>\n",
       "      <td>F</td>\n",
       "      <td>35448.040878</td>\n",
       "    </tr>\n",
       "    <tr>\n",
       "      <th>22</th>\n",
       "      <td>17</td>\n",
       "      <td>M</td>\n",
       "      <td>20178.985060</td>\n",
       "    </tr>\n",
       "  </tbody>\n",
       "</table>\n",
       "</div>"
      ],
      "text/plain": [
       "    person_id gender           wage\n",
       "12         12      M   23547.663281\n",
       "14         13      M  273483.609236\n",
       "16         14      M   13434.655493\n",
       "18         15      F   68341.332163\n",
       "20         16      F   35448.040878\n",
       "22         17      M   20178.985060"
      ]
     },
     "execution_count": 9,
     "metadata": {},
     "output_type": "execute_result"
    }
   ],
   "source": [
    "wage_no_duplicates = wage.drop_duplicates()\n",
    "wage_no_duplicates[12:18]"
   ]
  },
  {
   "cell_type": "markdown",
   "id": "0acc5dba",
   "metadata": {},
   "source": [
    "6. Теперь посмотрим внимательнее на зарплаты\n",
    "    1. Охарактеризуйте имеющиеся данные по зарплатам. Подсказка: `describe`\n",
    "    1. Избавьтесь от бессмысленных значений"
   ]
  },
  {
   "cell_type": "code",
   "execution_count": 10,
   "id": "d0f161a8",
   "metadata": {},
   "outputs": [
    {
     "data": {
      "text/plain": [
       "count      1000.000000\n",
       "mean      43694.227404\n",
       "std       55352.539343\n",
       "min     -287418.645743\n",
       "25%       14489.682367\n",
       "50%       27309.529498\n",
       "75%       52021.080258\n",
       "max      755320.874132\n",
       "Name: wage, dtype: float64"
      ]
     },
     "execution_count": 10,
     "metadata": {},
     "output_type": "execute_result"
    }
   ],
   "source": [
    "wage_info = wage_no_duplicates['wage'].describe()\n",
    "wage_info"
   ]
  },
  {
   "cell_type": "code",
   "execution_count": 11,
   "id": "283f2110-8c0c-4f87-8cd6-1fc2dfd95ec7",
   "metadata": {},
   "outputs": [
    {
     "data": {
      "text/plain": [
       "count       915.000000\n",
       "mean      31998.899214\n",
       "std       23850.371386\n",
       "min         945.648458\n",
       "25%       13735.574673\n",
       "50%       25434.072946\n",
       "75%       44345.417092\n",
       "max      108107.141368\n",
       "Name: wage, dtype: float64"
      ]
     },
     "execution_count": 11,
     "metadata": {},
     "output_type": "execute_result"
    }
   ],
   "source": [
    "lower_bound = 0\n",
    "upper_bound = wage_info['75%'] + 1.5 * (wage_info['75%'] - wage_info['25%'])  \n",
    "cleaned_wage_data = wage_no_duplicates[(wage_no_duplicates['wage'] >= lower_bound) & (wage_no_duplicates['wage'] <= upper_bound)]\n",
    "cleaned_wage_info = cleaned_wage_data['wage'].describe()\n",
    "cleaned_wage_info"
   ]
  },
  {
   "cell_type": "markdown",
   "id": "94207668",
   "metadata": {},
   "source": [
    "7. Давайте теперь посмотрим на зарплату с учетом бонуса. Для этого нам понадобится таблица `bonus.csv`. Считайте ее в переменную `bonus`. Заметьте, что она сохранена немного в другом формате, и вам понадобится уточнить параметр `sep` - разделитель записей. Сравните текущий файл с предыдущим и попробуйте решить проблему"
   ]
  },
  {
   "cell_type": "code",
   "execution_count": 19,
   "id": "b9ed7cc0",
   "metadata": {},
   "outputs": [],
   "source": [
    "bonus_orig = pd.read_csv('bonus-1-c177edc7-6e8e-4e53-8f5d-098bd95cc4de-e6e1e463-001c-49ff-adc4-ef6500457b1e.csv')\n",
    "bonus = bonus_orig.copy()"
   ]
  },
  {
   "cell_type": "code",
   "execution_count": 20,
   "id": "0ff6b2e9-80be-4489-8ab9-a7c883ed120a",
   "metadata": {},
   "outputs": [],
   "source": [
    "bonus[['person_id', 'bonus']] = bonus['person_id;bonus'].str.split(';', expand=True)\n",
    "bonus = bonus.drop('person_id;bonus', axis=1, errors='ignore')"
   ]
  },
  {
   "cell_type": "markdown",
   "id": "014b43ec",
   "metadata": {},
   "source": [
    "8. Чтобы посчитать итоговую зарплату, нам нужно по каждому человеку знать и оклад, и премию. Для этого надо будет соединить (сджойнить) таблицы по `person_id`. Используйте для этого функцию `pd.merge`. Помните, что параметр `how` должен быть `'outer'`, чтобы сохранить те записи, что есть только в одной таблице. Результат запишите в новый dataframe `df`"
   ]
  },
  {
   "cell_type": "code",
   "execution_count": 21,
   "id": "5a27ee80",
   "metadata": {},
   "outputs": [],
   "source": [
    "wage = wage_no_duplicates.copy()\n",
    "bonus['person_id'] = bonus['person_id'].astype('int64')"
   ]
  },
  {
   "cell_type": "code",
   "execution_count": 22,
   "id": "9ff47048-58ae-4d5b-8868-860efc78ae1a",
   "metadata": {},
   "outputs": [],
   "source": [
    "df = pd.merge(wage, bonus, on='person_id', how='outer')"
   ]
  },
  {
   "cell_type": "markdown",
   "id": "7eeded2e",
   "metadata": {},
   "source": [
    "9. Наконец, давайте посчитаем итоговую зарплату\n",
    "    1. Замените отсутствующие записи в колонке `bonus` нулями\n",
    "    1. Уберите людей без `wage` - это те \"плохие\" записи, от которых мы избавлялись на предыдущих шагах\n",
    "    1. Сделайте новую колонку `total`, которая будет равна 12 окладам и премии\n",
    "    1. Посчитайте среднюю и медианную итоговую зарплату в разрезе по полу. Подсказка: вместо функции агрегации можно написать `.agg()` и перечислить внутри нужные агрегаты"
   ]
  },
  {
   "cell_type": "code",
   "execution_count": 23,
   "id": "27ffd049",
   "metadata": {},
   "outputs": [
    {
     "data": {
      "text/html": [
       "<div>\n",
       "<style scoped>\n",
       "    .dataframe tbody tr th:only-of-type {\n",
       "        vertical-align: middle;\n",
       "    }\n",
       "\n",
       "    .dataframe tbody tr th {\n",
       "        vertical-align: top;\n",
       "    }\n",
       "\n",
       "    .dataframe thead th {\n",
       "        text-align: right;\n",
       "    }\n",
       "</style>\n",
       "<table border=\"1\" class=\"dataframe\">\n",
       "  <thead>\n",
       "    <tr style=\"text-align: right;\">\n",
       "      <th></th>\n",
       "      <th>person_id</th>\n",
       "      <th>gender</th>\n",
       "      <th>wage</th>\n",
       "      <th>bonus</th>\n",
       "    </tr>\n",
       "  </thead>\n",
       "  <tbody>\n",
       "    <tr>\n",
       "      <th>0</th>\n",
       "      <td>0</td>\n",
       "      <td>M</td>\n",
       "      <td>46793.603811</td>\n",
       "      <td>33329.344099872563675</td>\n",
       "    </tr>\n",
       "    <tr>\n",
       "      <th>1</th>\n",
       "      <td>1</td>\n",
       "      <td>M</td>\n",
       "      <td>33481.575720</td>\n",
       "      <td>0</td>\n",
       "    </tr>\n",
       "    <tr>\n",
       "      <th>2</th>\n",
       "      <td>2</td>\n",
       "      <td>M</td>\n",
       "      <td>44523.699084</td>\n",
       "      <td>3192912.312918076291680</td>\n",
       "    </tr>\n",
       "    <tr>\n",
       "      <th>3</th>\n",
       "      <td>3</td>\n",
       "      <td>M</td>\n",
       "      <td>15995.576829</td>\n",
       "      <td>21968.579374844448466</td>\n",
       "    </tr>\n",
       "    <tr>\n",
       "      <th>4</th>\n",
       "      <td>4</td>\n",
       "      <td>F</td>\n",
       "      <td>10282.631224</td>\n",
       "      <td>0</td>\n",
       "    </tr>\n",
       "    <tr>\n",
       "      <th>...</th>\n",
       "      <td>...</td>\n",
       "      <td>...</td>\n",
       "      <td>...</td>\n",
       "      <td>...</td>\n",
       "    </tr>\n",
       "    <tr>\n",
       "      <th>997</th>\n",
       "      <td>995</td>\n",
       "      <td>M</td>\n",
       "      <td>66503.737185</td>\n",
       "      <td>3452.137071266251041</td>\n",
       "    </tr>\n",
       "    <tr>\n",
       "      <th>998</th>\n",
       "      <td>996</td>\n",
       "      <td>M</td>\n",
       "      <td>9972.956272</td>\n",
       "      <td>389278.969077793299221</td>\n",
       "    </tr>\n",
       "    <tr>\n",
       "      <th>999</th>\n",
       "      <td>997</td>\n",
       "      <td>F</td>\n",
       "      <td>104504.616392</td>\n",
       "      <td>53809.781661933659052</td>\n",
       "    </tr>\n",
       "    <tr>\n",
       "      <th>1000</th>\n",
       "      <td>998</td>\n",
       "      <td>M</td>\n",
       "      <td>98927.903076</td>\n",
       "      <td>0</td>\n",
       "    </tr>\n",
       "    <tr>\n",
       "      <th>1001</th>\n",
       "      <td>999</td>\n",
       "      <td>M</td>\n",
       "      <td>108107.141368</td>\n",
       "      <td>0</td>\n",
       "    </tr>\n",
       "  </tbody>\n",
       "</table>\n",
       "<p>1002 rows × 4 columns</p>\n",
       "</div>"
      ],
      "text/plain": [
       "      person_id gender           wage                    bonus\n",
       "0             0      M   46793.603811    33329.344099872563675\n",
       "1             1      M   33481.575720                        0\n",
       "2             2      M   44523.699084  3192912.312918076291680\n",
       "3             3      M   15995.576829    21968.579374844448466\n",
       "4             4      F   10282.631224                        0\n",
       "...         ...    ...            ...                      ...\n",
       "997         995      M   66503.737185     3452.137071266251041\n",
       "998         996      M    9972.956272   389278.969077793299221\n",
       "999         997      F  104504.616392    53809.781661933659052\n",
       "1000        998      M   98927.903076                        0\n",
       "1001        999      M  108107.141368                        0\n",
       "\n",
       "[1002 rows x 4 columns]"
      ]
     },
     "execution_count": 23,
     "metadata": {},
     "output_type": "execute_result"
    }
   ],
   "source": [
    "df.loc[:,'bonus'] = pd.to_numeric(df['bonus'], errors='coerce').astype('float64')\n",
    "df.loc[:,'bonus'] = df['bonus'].fillna(0).map(lambda x: 0 if x == 0 else '{:.15f}'.format(x))"
   ]
  },
  {
   "cell_type": "code",
   "execution_count": 24,
   "id": "151d3666-3e70-4e76-b542-69dfeab13ccc",
   "metadata": {},
   "outputs": [
    {
     "data": {
      "text/html": [
       "<div>\n",
       "<style scoped>\n",
       "    .dataframe tbody tr th:only-of-type {\n",
       "        vertical-align: middle;\n",
       "    }\n",
       "\n",
       "    .dataframe tbody tr th {\n",
       "        vertical-align: top;\n",
       "    }\n",
       "\n",
       "    .dataframe thead th {\n",
       "        text-align: right;\n",
       "    }\n",
       "</style>\n",
       "<table border=\"1\" class=\"dataframe\">\n",
       "  <thead>\n",
       "    <tr style=\"text-align: right;\">\n",
       "      <th></th>\n",
       "      <th>person_id</th>\n",
       "      <th>gender</th>\n",
       "      <th>wage</th>\n",
       "      <th>bonus</th>\n",
       "    </tr>\n",
       "  </thead>\n",
       "  <tbody>\n",
       "    <tr>\n",
       "      <th>0</th>\n",
       "      <td>0</td>\n",
       "      <td>M</td>\n",
       "      <td>46793.603811</td>\n",
       "      <td>33329.344099872563675</td>\n",
       "    </tr>\n",
       "    <tr>\n",
       "      <th>1</th>\n",
       "      <td>1</td>\n",
       "      <td>M</td>\n",
       "      <td>33481.575720</td>\n",
       "      <td>0</td>\n",
       "    </tr>\n",
       "    <tr>\n",
       "      <th>2</th>\n",
       "      <td>2</td>\n",
       "      <td>M</td>\n",
       "      <td>44523.699084</td>\n",
       "      <td>3192912.312918076291680</td>\n",
       "    </tr>\n",
       "    <tr>\n",
       "      <th>3</th>\n",
       "      <td>3</td>\n",
       "      <td>M</td>\n",
       "      <td>15995.576829</td>\n",
       "      <td>21968.579374844448466</td>\n",
       "    </tr>\n",
       "    <tr>\n",
       "      <th>4</th>\n",
       "      <td>4</td>\n",
       "      <td>F</td>\n",
       "      <td>10282.631224</td>\n",
       "      <td>0</td>\n",
       "    </tr>\n",
       "    <tr>\n",
       "      <th>...</th>\n",
       "      <td>...</td>\n",
       "      <td>...</td>\n",
       "      <td>...</td>\n",
       "      <td>...</td>\n",
       "    </tr>\n",
       "    <tr>\n",
       "      <th>997</th>\n",
       "      <td>995</td>\n",
       "      <td>M</td>\n",
       "      <td>66503.737185</td>\n",
       "      <td>3452.137071266251041</td>\n",
       "    </tr>\n",
       "    <tr>\n",
       "      <th>998</th>\n",
       "      <td>996</td>\n",
       "      <td>M</td>\n",
       "      <td>9972.956272</td>\n",
       "      <td>389278.969077793299221</td>\n",
       "    </tr>\n",
       "    <tr>\n",
       "      <th>999</th>\n",
       "      <td>997</td>\n",
       "      <td>F</td>\n",
       "      <td>104504.616392</td>\n",
       "      <td>53809.781661933659052</td>\n",
       "    </tr>\n",
       "    <tr>\n",
       "      <th>1000</th>\n",
       "      <td>998</td>\n",
       "      <td>M</td>\n",
       "      <td>98927.903076</td>\n",
       "      <td>0</td>\n",
       "    </tr>\n",
       "    <tr>\n",
       "      <th>1001</th>\n",
       "      <td>999</td>\n",
       "      <td>M</td>\n",
       "      <td>108107.141368</td>\n",
       "      <td>0</td>\n",
       "    </tr>\n",
       "  </tbody>\n",
       "</table>\n",
       "<p>917 rows × 4 columns</p>\n",
       "</div>"
      ],
      "text/plain": [
       "      person_id gender           wage                    bonus\n",
       "0             0      M   46793.603811    33329.344099872563675\n",
       "1             1      M   33481.575720                        0\n",
       "2             2      M   44523.699084  3192912.312918076291680\n",
       "3             3      M   15995.576829    21968.579374844448466\n",
       "4             4      F   10282.631224                        0\n",
       "...         ...    ...            ...                      ...\n",
       "997         995      M   66503.737185     3452.137071266251041\n",
       "998         996      M    9972.956272   389278.969077793299221\n",
       "999         997      F  104504.616392    53809.781661933659052\n",
       "1000        998      M   98927.903076                        0\n",
       "1001        999      M  108107.141368                        0\n",
       "\n",
       "[917 rows x 4 columns]"
      ]
     },
     "execution_count": 24,
     "metadata": {},
     "output_type": "execute_result"
    }
   ],
   "source": [
    "df = df[df['wage'].isin(cleaned_wage_data['wage'])]"
   ]
  },
  {
   "cell_type": "code",
   "execution_count": 35,
   "id": "e64fb1ad-f158-4f1e-bfa4-7afeaec70ef0",
   "metadata": {},
   "outputs": [
    {
     "data": {
      "text/html": [
       "<div>\n",
       "<style scoped>\n",
       "    .dataframe tbody tr th:only-of-type {\n",
       "        vertical-align: middle;\n",
       "    }\n",
       "\n",
       "    .dataframe tbody tr th {\n",
       "        vertical-align: top;\n",
       "    }\n",
       "\n",
       "    .dataframe thead th {\n",
       "        text-align: right;\n",
       "    }\n",
       "</style>\n",
       "<table border=\"1\" class=\"dataframe\">\n",
       "  <thead>\n",
       "    <tr style=\"text-align: right;\">\n",
       "      <th></th>\n",
       "      <th>person_id</th>\n",
       "      <th>gender</th>\n",
       "      <th>wage</th>\n",
       "      <th>bonus</th>\n",
       "      <th>total</th>\n",
       "    </tr>\n",
       "  </thead>\n",
       "  <tbody>\n",
       "    <tr>\n",
       "      <th>0</th>\n",
       "      <td>0</td>\n",
       "      <td>M</td>\n",
       "      <td>46793.603811</td>\n",
       "      <td>33329.344099872563675</td>\n",
       "      <td>594852.589829797740094</td>\n",
       "    </tr>\n",
       "    <tr>\n",
       "      <th>1</th>\n",
       "      <td>1</td>\n",
       "      <td>M</td>\n",
       "      <td>33481.575720</td>\n",
       "      <td>0.000000000000000</td>\n",
       "      <td>401778.908640628913417</td>\n",
       "    </tr>\n",
       "    <tr>\n",
       "      <th>2</th>\n",
       "      <td>2</td>\n",
       "      <td>M</td>\n",
       "      <td>44523.699084</td>\n",
       "      <td>3192912.312918076291680</td>\n",
       "      <td>3727196.701926810666919</td>\n",
       "    </tr>\n",
       "    <tr>\n",
       "      <th>3</th>\n",
       "      <td>3</td>\n",
       "      <td>M</td>\n",
       "      <td>15995.576829</td>\n",
       "      <td>21968.579374844448466</td>\n",
       "      <td>213915.501324415876297</td>\n",
       "    </tr>\n",
       "    <tr>\n",
       "      <th>4</th>\n",
       "      <td>4</td>\n",
       "      <td>F</td>\n",
       "      <td>10282.631224</td>\n",
       "      <td>0.000000000000000</td>\n",
       "      <td>123391.574686810519779</td>\n",
       "    </tr>\n",
       "  </tbody>\n",
       "</table>\n",
       "</div>"
      ],
      "text/plain": [
       "   person_id gender          wage                    bonus  \\\n",
       "0          0      M  46793.603811    33329.344099872563675   \n",
       "1          1      M  33481.575720        0.000000000000000   \n",
       "2          2      M  44523.699084  3192912.312918076291680   \n",
       "3          3      M  15995.576829    21968.579374844448466   \n",
       "4          4      F  10282.631224        0.000000000000000   \n",
       "\n",
       "                     total  \n",
       "0   594852.589829797740094  \n",
       "1   401778.908640628913417  \n",
       "2  3727196.701926810666919  \n",
       "3   213915.501324415876297  \n",
       "4   123391.574686810519779  "
      ]
     },
     "execution_count": 35,
     "metadata": {},
     "output_type": "execute_result"
    }
   ],
   "source": [
    "df_copy = df.copy()\n",
    "df_copy['bonus'] = df_copy['bonus'].astype('float64')\n",
    "df_copy['total'] = df_copy['wage'] * 12 + df_copy['bonus']\n",
    "df_copy['total'] = df_copy['total'].map(lambda x: '{:.15f}'.format(x))\n",
    "df_copy['bonus'] = df_copy['bonus'].map(lambda x: '{:.15f}'.format(x))\n",
    "df_copy.head()"
   ]
  },
  {
   "cell_type": "code",
   "execution_count": 71,
   "id": "9d43bbf7-d5b8-4f58-a4fe-c212606b1c5f",
   "metadata": {},
   "outputs": [
    {
     "data": {
      "text/html": [
       "<div>\n",
       "<style scoped>\n",
       "    .dataframe tbody tr th:only-of-type {\n",
       "        vertical-align: middle;\n",
       "    }\n",
       "\n",
       "    .dataframe tbody tr th {\n",
       "        vertical-align: top;\n",
       "    }\n",
       "\n",
       "    .dataframe thead th {\n",
       "        text-align: right;\n",
       "    }\n",
       "</style>\n",
       "<table border=\"1\" class=\"dataframe\">\n",
       "  <thead>\n",
       "    <tr style=\"text-align: right;\">\n",
       "      <th></th>\n",
       "      <th>mean</th>\n",
       "      <th>median</th>\n",
       "    </tr>\n",
       "    <tr>\n",
       "      <th>gender</th>\n",
       "      <th></th>\n",
       "      <th></th>\n",
       "    </tr>\n",
       "  </thead>\n",
       "  <tbody>\n",
       "    <tr>\n",
       "      <th>F</th>\n",
       "      <td>443185.114540</td>\n",
       "      <td>323983.560678</td>\n",
       "    </tr>\n",
       "    <tr>\n",
       "      <th>M</th>\n",
       "      <td>494837.961705</td>\n",
       "      <td>381843.546893</td>\n",
       "    </tr>\n",
       "  </tbody>\n",
       "</table>\n",
       "</div>"
      ],
      "text/plain": [
       "                 mean         median\n",
       "gender                              \n",
       "F       443185.114540  323983.560678\n",
       "M       494837.961705  381843.546893"
      ]
     },
     "execution_count": 71,
     "metadata": {},
     "output_type": "execute_result"
    }
   ],
   "source": [
    "df_copy['total'] = df_copy['total'].astype('float64')\n",
    "salary_agg = df_copy.groupby('gender')['total'].agg(['mean', 'median'])\n",
    "mean_round_f = round(salary_agg.loc['F', 'mean'])\n",
    "median_round_m = round(salary_agg.loc['M', 'median'])\n",
    "salary_agg"
   ]
  },
  {
   "cell_type": "markdown",
   "id": "a18d8a29",
   "metadata": {},
   "source": [
    "10. Сохраните `df` в файл, используя метод `to_csv()`. Не записывайте индексы"
   ]
  },
  {
   "cell_type": "code",
   "execution_count": 51,
   "id": "03a704d1",
   "metadata": {},
   "outputs": [],
   "source": [
    "df = df_copy.copy()\n",
    "df['total'] = df['total'].map(lambda x: '{:.15f}'.format(x))"
   ]
  },
  {
   "cell_type": "code",
   "execution_count": 52,
   "id": "29486669-e60e-468c-a590-10632bc53172",
   "metadata": {},
   "outputs": [],
   "source": [
    "df.to_csv('wage_bonus.csv', index=False)"
   ]
  }
 ],
 "metadata": {
  "kernelspec": {
   "display_name": "Python 3 (ipykernel)",
   "language": "python",
   "name": "python3"
  },
  "language_info": {
   "codemirror_mode": {
    "name": "ipython",
    "version": 3
   },
   "file_extension": ".py",
   "mimetype": "text/x-python",
   "name": "python",
   "nbconvert_exporter": "python",
   "pygments_lexer": "ipython3",
   "version": "3.8.10"
  },
  "toc": {
   "base_numbering": 1,
   "nav_menu": {},
   "number_sections": true,
   "sideBar": true,
   "skip_h1_title": false,
   "title_cell": "Table of Contents",
   "title_sidebar": "Contents",
   "toc_cell": false,
   "toc_position": {},
   "toc_section_display": true,
   "toc_window_display": false
  }
 },
 "nbformat": 4,
 "nbformat_minor": 5
}
